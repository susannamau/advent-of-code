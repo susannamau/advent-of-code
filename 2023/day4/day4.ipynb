{
 "cells": [
  {
   "cell_type": "markdown",
   "metadata": {},
   "source": [
    "# Part 1"
   ]
  },
  {
   "cell_type": "markdown",
   "metadata": {},
   "source": [
    "As far as the Elf has been able to figure out, you have to figure out which of the numbers you have appear in the list of winning numbers. The first match makes the card worth one point and each match after the first doubles the point value of that card.\n",
    "\n",
    "Card 2 has two winning numbers (32 and 61), so it is worth 2 points.\n",
    "Card 3 has two winning numbers (1 and 21), so it is worth 2 points.\n",
    "Card 4 has one winning number (84), so it is worth 1 point.\n",
    "Card 5 has no winning numbers, so it is worth no points.\n",
    "Card 6 has no winning numbers, so it is worth no points."
   ]
  },
  {
   "cell_type": "code",
   "execution_count": 52,
   "metadata": {},
   "outputs": [],
   "source": [
    "f = open(\"input_day4.txt\", 'r')\n",
    "data = f.readlines()\n",
    "#data"
   ]
  },
  {
   "cell_type": "code",
   "execution_count": 53,
   "metadata": {},
   "outputs": [],
   "source": [
    "d = []\n",
    "for s in data:\n",
    "    s = s.replace('\\n', '')\n",
    "    s = s.split(':')[1]\n",
    "    s = s.split('|') #list\n",
    "    num_vincenti = s[0].split()\n",
    "    num = s[1].split()\n",
    "    d.append([num_vincenti, num])"
   ]
  },
  {
   "cell_type": "code",
   "execution_count": 54,
   "metadata": {},
   "outputs": [
    {
     "data": {
      "text/plain": [
       "26426"
      ]
     },
     "execution_count": 54,
     "metadata": {},
     "output_type": "execute_result"
    }
   ],
   "source": [
    "tot = 0\n",
    "for s in d:\n",
    "    vinc = 0\n",
    "    for n in s[0]:\n",
    "        if n in s[1]:\n",
    "            vinc += 1\n",
    "    if vinc > 0:\n",
    "        if vinc == 1:\n",
    "            tot += 1\n",
    "        else:\n",
    "            tot += 2**(vinc-1)\n",
    "tot\n"
   ]
  },
  {
   "cell_type": "markdown",
   "metadata": {},
   "source": [
    "# Part 2"
   ]
  },
  {
   "cell_type": "code",
   "execution_count": 55,
   "metadata": {},
   "outputs": [],
   "source": [
    "cards_data = {}\n",
    "for s in data:\n",
    "    s = s.strip()\n",
    "    s = s.replace(\"Card\", \"\").strip()\n",
    "    k, v = s.split(':')\n",
    "    k = k.strip()\n",
    "    v = v.strip().split(\"|\")\n",
    "    \n",
    "    winning_numbers = list(map(int, v[0].strip().split()))\n",
    "    numbers_on_card = list(map(int, v[1].strip().split()))\n",
    "\n",
    "    cards_data[k] = (winning_numbers, numbers_on_card)"
   ]
  },
  {
   "cell_type": "code",
   "execution_count": 56,
   "metadata": {},
   "outputs": [
    {
     "data": {
      "text/plain": [
       "6227972"
      ]
     },
     "execution_count": 56,
     "metadata": {},
     "output_type": "execute_result"
    }
   ],
   "source": [
    "from collections import defaultdict, deque\n",
    "\n",
    "card_counts = defaultdict(int)\n",
    "\n",
    "queue = deque([(card_number, 1) for card_number in cards_data.keys()])\n",
    "\n",
    "while queue:\n",
    "    current_card, instances = queue.popleft()\n",
    "    card_counts[current_card] += instances\n",
    "\n",
    "    winning_numbers, numbers_on_card = cards_data[current_card]\n",
    "\n",
    "    matches = len(set(winning_numbers) & set(numbers_on_card))\n",
    "\n",
    "    for i in range(1, matches + 1):\n",
    "        next_card = str(int(current_card) + i)\n",
    "        if next_card in cards_data:\n",
    "            queue.append((next_card, instances))\n",
    "\n",
    "total_cards = sum(card_counts.values())\n",
    "\n",
    "total_cards"
   ]
  }
 ],
 "metadata": {
  "kernelspec": {
   "display_name": "academy",
   "language": "python",
   "name": "python3"
  },
  "language_info": {
   "codemirror_mode": {
    "name": "ipython",
    "version": 3
   },
   "file_extension": ".py",
   "mimetype": "text/x-python",
   "name": "python",
   "nbconvert_exporter": "python",
   "pygments_lexer": "ipython3",
   "version": "3.9.19"
  }
 },
 "nbformat": 4,
 "nbformat_minor": 2
}
