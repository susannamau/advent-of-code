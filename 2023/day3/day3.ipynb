{
 "cells": [
  {
   "cell_type": "markdown",
   "metadata": {},
   "source": [
    "## Part 1"
   ]
  },
  {
   "cell_type": "markdown",
   "metadata": {},
   "source": [
    "--- Day 3: Gear Ratios ---\n",
    "You and the Elf eventually reach a gondola lift station; he says the gondola lift will take you up to the water source, but this is as far as he can bring you. You go inside.\n",
    "\n",
    "It doesn't take long to find the gondolas, but there seems to be a problem: they're not moving.\n",
    "\n",
    "\"Aaah!\"\n",
    "\n",
    "You turn around to see a slightly-greasy Elf with a wrench and a look of surprise. \"Sorry, I wasn't expecting anyone! The gondola lift isn't working right now; it'll still be a while before I can fix it.\" You offer to help.\n",
    "\n",
    "The engineer explains that an engine part seems to be missing from the engine, but nobody can figure out which one. If you can add up all the part numbers in the engine schematic, it should be easy to work out which part is missing.\n",
    "\n",
    "The engine schematic (your puzzle input) consists of a visual representation of the engine. There are lots of numbers and symbols you don't really understand, but apparently any number adjacent to a symbol, even diagonally, is a \"part number\" and should be included in your sum. (Periods (.) do not count as a symbol.)\n",
    "\n",
    "Here is an example engine schematic:\n",
    "\n",
    "467..114..\n",
    "\n",
    "...*......\n",
    "\n",
    "..35..633.\n",
    "\n",
    "......#...\n",
    "\n",
    "617*......\n",
    "\n",
    ".....+.58.\n",
    "\n",
    "..592.....\n",
    "\n",
    "......755.\n",
    "\n",
    "...$.*....\n",
    "\n",
    ".664.598..\n",
    "\n",
    "In this schematic, two numbers are not part numbers because they are not adjacent to a symbol: 114 (top right) and 58 (middle right). Every other number is adjacent to a symbol and so is a part number; their sum is 4361.\n",
    "\n",
    "Of course, the actual engine schematic is much larger. What is the sum of all of the part numbers in the engine schematic?\n",
    "\n"
   ]
  },
  {
   "cell_type": "code",
   "execution_count": 71,
   "metadata": {},
   "outputs": [],
   "source": [
    "import re"
   ]
  },
  {
   "cell_type": "code",
   "execution_count": 96,
   "metadata": {},
   "outputs": [],
   "source": [
    "f = open(\"input_day3.txt\", 'r')\n",
    "data = f.readlines()\n",
    "#data"
   ]
  },
  {
   "cell_type": "code",
   "execution_count": 97,
   "metadata": {},
   "outputs": [
    {
     "data": {
      "text/plain": [
       "['/', '@', '%', '+', '*', '=', '#', '$', '&', '-']"
      ]
     },
     "execution_count": 97,
     "metadata": {},
     "output_type": "execute_result"
    }
   ],
   "source": [
    "stringa_unica = ''\n",
    "for s in data:\n",
    "    stringa_unica = stringa_unica+s.strip()\n",
    "symbols = list(set(list(stringa_unica)))\n",
    "sym = [i for i in symbols if i not in ['.', '0', '1', '2', '3', '4', '5', '6', '7', '8', '9']]\n",
    "sym"
   ]
  },
  {
   "cell_type": "code",
   "execution_count": 98,
   "metadata": {},
   "outputs": [],
   "source": [
    "def numbers(string):\n",
    "    l = []\n",
    "    for match in re.finditer(r'\\d+', string):\n",
    "        numero = match.group()\n",
    "        pos = match.start()\n",
    "        l.append([numero, pos])\n",
    "    return l"
   ]
  },
  {
   "cell_type": "code",
   "execution_count": 99,
   "metadata": {},
   "outputs": [
    {
     "name": "stdout",
     "output_type": "stream",
     "text": [
      "556057\n"
     ]
    }
   ],
   "source": [
    "da_sommare = []\n",
    "for i in range(len(data)):\n",
    "    row = data[i]\n",
    "    numeri = numbers(row)\n",
    "    #print(numeri)\n",
    "    for numero in numeri:\n",
    "        n = numero[0]\n",
    "        start_pos = numero[1]\n",
    "        x_hot = list(range(max(0, start_pos-1), min(start_pos+len(n)+1,len(row)-1)))\n",
    "        #print(x_hot)\n",
    "        y_hot = list(range(max(0, i-1), min(len(data)-1, i+2)))\n",
    "        #print(y_hot)\n",
    "        for y in y_hot:\n",
    "            #print(y)\n",
    "            for x in x_hot:\n",
    "                #print(x)\n",
    "                #print(data[y][x])\n",
    "                #print(i)\n",
    "                if data[y][x] in sym:\n",
    "                    da_sommare.append(n)\n",
    "somma = 0\n",
    "for el in da_sommare:\n",
    "    somma += int(el)\n",
    "print(somma)"
   ]
  }
 ],
 "metadata": {
  "kernelspec": {
   "display_name": "base",
   "language": "python",
   "name": "python3"
  },
  "language_info": {
   "codemirror_mode": {
    "name": "ipython",
    "version": 3
   },
   "file_extension": ".py",
   "mimetype": "text/x-python",
   "name": "python",
   "nbconvert_exporter": "python",
   "pygments_lexer": "ipython3",
   "version": "3.11.4"
  }
 },
 "nbformat": 4,
 "nbformat_minor": 2
}
