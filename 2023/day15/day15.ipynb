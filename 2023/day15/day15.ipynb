{
 "cells": [
  {
   "cell_type": "markdown",
   "metadata": {},
   "source": [
    "## Part 1"
   ]
  },
  {
   "cell_type": "code",
   "execution_count": 45,
   "metadata": {},
   "outputs": [],
   "source": [
    "f = open(\"input_day15.txt\", 'r')\n",
    "data = f.read()\n",
    "#data"
   ]
  },
  {
   "cell_type": "code",
   "execution_count": 46,
   "metadata": {},
   "outputs": [],
   "source": [
    "data = data.split(',')"
   ]
  },
  {
   "cell_type": "code",
   "execution_count": 47,
   "metadata": {},
   "outputs": [],
   "source": [
    "total = []\n",
    "\n",
    "for el in data: #['rn=1','cm-','qp=3','cm=2','qp-','pc=4','ot=9','ab=5','pc-','pc=6','ot=7']:\n",
    "    #print(el)\n",
    "    current = 0\n",
    "    for l in el:\n",
    "        a = ord(l)\n",
    "        #print(l, a)\n",
    "        current += a\n",
    "        current = current*17\n",
    "        #print(current)\n",
    "        current=current%256\n",
    "        #print(current)\n",
    "    total.append(current)"
   ]
  },
  {
   "cell_type": "code",
   "execution_count": 48,
   "metadata": {},
   "outputs": [
    {
     "data": {
      "text/plain": [
       "512283"
      ]
     },
     "execution_count": 48,
     "metadata": {},
     "output_type": "execute_result"
    }
   ],
   "source": [
    "sum(total)"
   ]
  },
  {
   "cell_type": "markdown",
   "metadata": {},
   "source": [
    "## Part 2"
   ]
  },
  {
   "cell_type": "markdown",
   "metadata": {},
   "source": [
    "--- Part Two ---\n",
    "You convince the reindeer to bring you the page; the page confirms that your HASH algorithm is working.\n",
    "\n",
    "The book goes on to describe a series of 256 boxes numbered 0 through 255. The boxes are arranged in a line starting from the point where light enters the facility. The boxes have holes that allow light to pass from one box to the next all the way down the line.\n",
    "\n",
    "      +-----+  +-----+         +-----+\n",
    "\n",
    "Light | Box |  | Box |   ...   | Box |\n",
    "\n",
    "----------------------------------------->\n",
    "\n",
    "      |  0  |  |  1  |   ...   | 255 |\n",
    "\n",
    "      +-----+  +-----+         +-----+\n",
    "\n",
    "Inside each box, there are several lens slots that will keep a lens correctly positioned to focus light passing through the box. The side of each box has a panel that opens to allow you to insert or remove lenses as necessary.\n",
    "\n",
    "Along the wall running parallel to the boxes is a large library containing lenses organized by focal length ranging from 1 through 9. The reindeer also brings you a small handheld label printer.\n",
    "\n",
    "The book goes on to explain how to perform each step in the initialization sequence, a process it calls the Holiday ASCII String Helper Manual Arrangement Procedure, or HASHMAP for short.\n",
    "\n",
    "Each step begins with a sequence of letters that indicate the label of the lens on which the step operates. The result of running the HASH algorithm on the label indicates the correct box for that step.\n",
    "\n",
    "The label will be immediately followed by a character that indicates the operation to perform: either an equals sign (=) or a dash (-).\n",
    "\n",
    "If the operation character is a dash (-), go to the relevant box and remove the lens with the given label if it is present in the box. Then, move any remaining lenses as far forward in the box as they can go without changing their order, filling any space made by removing the indicated lens. (If no lens in that box has the given label, nothing happens.)\n",
    "\n",
    "If the operation character is an equals sign (=), it will be followed by a number indicating the focal length of the lens that needs to go into the relevant box; be sure to use the label maker to mark the lens with the label given in the beginning of the step so you can find it later. There are two possible situations:\n",
    "\n",
    "If there is already a lens in the box with the same label, replace the old lens with the new lens: remove the old lens and put the new lens in its place, not moving any other lenses in the box.\n",
    "If there is not already a lens in the box with the same label, add the lens to the box immediately behind any lenses already in the box. Don't move any of the other lenses when you do this. If there aren't any lenses in the box, the new lens goes all the way to the front of the box.\n",
    "Here is the contents of every box after each step in the example initialization sequence above:\n",
    "\n",
    "After \"rn=1\":\n",
    "\n",
    "Box 0: [rn 1]\n",
    "\n",
    "After \"cm-\":\n",
    "\n",
    "Box 0: [rn 1]\n",
    "\n",
    "After \"qp=3\":\n",
    "\n",
    "Box 0: [rn 1]\n",
    "\n",
    "Box 1: [qp 3]\n",
    "\n",
    "After \"cm=2\":\n",
    "\n",
    "Box 0: [rn 1] [cm 2]\n",
    "\n",
    "Box 1: [qp 3]\n",
    "\n",
    "After \"qp-\":\n",
    "\n",
    "Box 0: [rn 1] [cm 2]\n",
    "\n",
    "After \"pc=4\":\n",
    "\n",
    "Box 0: [rn 1] [cm 2]\n",
    "\n",
    "Box 3: [pc 4]\n",
    "\n",
    "After \"ot=9\":\n",
    "\n",
    "Box 0: [rn 1] [cm 2]\n",
    "\n",
    "Box 3: [pc 4] [ot 9]\n",
    "\n",
    "After \"ab=5\":\n",
    "\n",
    "Box 0: [rn 1] [cm 2]\n",
    "\n",
    "Box 3: [pc 4] [ot 9] [ab 5]\n",
    "\n",
    "After \"pc-\":\n",
    "\n",
    "Box 0: [rn 1] [cm 2]\n",
    "\n",
    "Box 3: [ot 9] [ab 5]\n",
    "\n",
    "After \"pc=6\":\n",
    "\n",
    "Box 0: [rn 1] [cm 2]\n",
    "\n",
    "Box 3: [ot 9] [ab 5] [pc 6]\n",
    "\n",
    "After \"ot=7\":\n",
    "\n",
    "Box 0: [rn 1] [cm 2]\n",
    "\n",
    "Box 3: [ot 7] [ab 5] [pc 6]\n",
    "\n",
    "All 256 boxes are always present; only the boxes that contain any lenses are shown here. Within each box, lenses are listed from front to back; each lens is shown as its label and focal length in square brackets.\n",
    "\n",
    "To confirm that all of the lenses are installed correctly, add up the focusing power of all of the lenses. The focusing power of a single lens is the result of multiplying together:\n",
    "\n",
    "One plus the box number of the lens in question.\n",
    "The slot number of the lens within the box: 1 for the first lens, 2 for the second lens, and so on.\n",
    "The focal length of the lens.\n",
    "At the end of the above example, the focusing power of each lens is as follows:\n",
    "\n",
    "rn: 1 (box 0) * 1 (first slot) * 1 (focal length) = 1\n",
    "cm: 1 (box 0) * 2 (second slot) * 2 (focal length) = 4\n",
    "ot: 4 (box 3) * 1 (first slot) * 7 (focal length) = 28\n",
    "ab: 4 (box 3) * 2 (second slot) * 5 (focal length) = 40\n",
    "pc: 4 (box 3) * 3 (third slot) * 6 (focal length) = 72\n",
    "So, the above example ends up with a total focusing power of 145.\n",
    "\n",
    "With the help of an over-enthusiastic reindeer in a hard hat, follow the initialization sequence. What is the focusing power of the resulting lens configuration?\n",
    "\n"
   ]
  },
  {
   "cell_type": "code",
   "execution_count": null,
   "metadata": {},
   "outputs": [],
   "source": []
  }
 ],
 "metadata": {
  "kernelspec": {
   "display_name": "superpowers",
   "language": "python",
   "name": "python3"
  },
  "language_info": {
   "codemirror_mode": {
    "name": "ipython",
    "version": 3
   },
   "file_extension": ".py",
   "mimetype": "text/x-python",
   "name": "python",
   "nbconvert_exporter": "python",
   "pygments_lexer": "ipython3",
   "version": "3.11.5"
  }
 },
 "nbformat": 4,
 "nbformat_minor": 2
}
