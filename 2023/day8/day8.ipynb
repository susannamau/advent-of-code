{
 "cells": [
  {
   "cell_type": "markdown",
   "metadata": {},
   "source": [
    "## Part 1"
   ]
  },
  {
   "cell_type": "markdown",
   "metadata": {},
   "source": [
    "--- Day 8: Haunted Wasteland ---\n",
    "You're still riding a camel across Desert Island when you spot a sandstorm quickly approaching. When you turn to warn the Elf, she disappears before your eyes! To be fair, she had just finished warning you about ghosts a few minutes ago.\n",
    "\n",
    "One of the camel's pouches is labeled \"maps\" - sure enough, it's full of documents (your puzzle input) about how to navigate the desert. At least, you're pretty sure that's what they are; one of the documents contains a list of left/right instructions, and the rest of the documents seem to describe some kind of network of labeled nodes.\n",
    "\n",
    "It seems like you're meant to use the left/right instructions to navigate the network. Perhaps if you have the camel follow the same instructions, you can escape the haunted wasteland!\n",
    "\n",
    "After examining the maps for a bit, two nodes stick out: AAA and ZZZ. You feel like AAA is where you are now, and you have to follow the left/right instructions until you reach ZZZ.\n",
    "\n",
    "This format defines each node of the network individually. For example:\n",
    "\n",
    "RL\n",
    "\n",
    "AAA = (BBB, CCC)\n",
    "\n",
    "BBB = (DDD, EEE)\n",
    "\n",
    "CCC = (ZZZ, GGG)\n",
    "\n",
    "DDD = (DDD, DDD)\n",
    "\n",
    "EEE = (EEE, EEE)\n",
    "\n",
    "GGG = (GGG, GGG)\n",
    "\n",
    "ZZZ = (ZZZ, ZZZ)\n",
    "\n",
    "Starting with AAA, you need to look up the next element based on the next left/right instruction in your input. In this example, start with AAA and go right (R) by choosing the right element of AAA, CCC. Then, L means to choose the left element of CCC, ZZZ. By following the left/right instructions, you reach ZZZ in 2 steps.\n",
    "\n",
    "Of course, you might not find ZZZ right away. If you run out of left/right instructions, repeat the whole sequence of instructions as necessary: RL really means RLRLRLRLRLRLRLRL... and so on. For example, here is a situation that takes 6 steps to reach ZZZ:\n",
    "\n",
    "LLR\n",
    "\n",
    "AAA = (BBB, BBB)\n",
    "\n",
    "BBB = (AAA, ZZZ)\n",
    "\n",
    "ZZZ = (ZZZ, ZZZ)\n",
    "\n",
    "Starting at AAA, follow the left/right instructions. How many steps are required to reach ZZZ?"
   ]
  },
  {
   "cell_type": "code",
   "execution_count": 3,
   "metadata": {},
   "outputs": [],
   "source": [
    "f = open(\"input_day8.txt\", 'r')\n",
    "data = f.readlines()\n",
    "#data"
   ]
  },
  {
   "cell_type": "code",
   "execution_count": 4,
   "metadata": {},
   "outputs": [],
   "source": [
    "pattern = data[0].strip('\\n')\n",
    "#pattern"
   ]
  },
  {
   "cell_type": "code",
   "execution_count": 5,
   "metadata": {},
   "outputs": [],
   "source": [
    "nodes = {}\n",
    "for n in data[2:]:\n",
    "    key = n[:3]\n",
    "    v1 = n[7:10]\n",
    "    v2 = n[12:15]\n",
    "    nodes[key] = [v1, v2]"
   ]
  },
  {
   "cell_type": "code",
   "execution_count": 6,
   "metadata": {},
   "outputs": [],
   "source": [
    "def dir(s):\n",
    "    if s == 'L':\n",
    "        return 0\n",
    "    else:\n",
    "        return 1"
   ]
  },
  {
   "cell_type": "code",
   "execution_count": 7,
   "metadata": {},
   "outputs": [
    {
     "data": {
      "text/plain": [
       "21251"
      ]
     },
     "execution_count": 7,
     "metadata": {},
     "output_type": "execute_result"
    }
   ],
   "source": [
    "node = 'AAA'\n",
    "end = 'ZZZ'\n",
    "steps = 0\n",
    "\n",
    "while node != end:\n",
    "    s = pattern[steps%len(pattern)]\n",
    "    node = nodes[node][dir(s)]\n",
    "    steps += 1\n",
    "\n",
    "steps"
   ]
  },
  {
   "cell_type": "markdown",
   "metadata": {},
   "source": [
    "## Part 2"
   ]
  },
  {
   "cell_type": "markdown",
   "metadata": {},
   "source": [
    "--- Part Two ---\n",
    "The sandstorm is upon you and you aren't any closer to escaping the wasteland. You had the camel follow the instructions, but you've barely left your starting position. It's going to take significantly more steps to escape!\n",
    "\n",
    "What if the map isn't for people - what if the map is for ghosts? Are ghosts even bound by the laws of spacetime? Only one way to find out.\n",
    "\n",
    "After examining the maps a bit longer, your attention is drawn to a curious fact: the number of nodes with names ending in A is equal to the number ending in Z! If you were a ghost, you'd probably just start at every node that ends with A and follow all of the paths at the same time until they all simultaneously end up at nodes that end with Z.\n",
    "\n",
    "For example:\n",
    "\n",
    "LR\n",
    "\n",
    "11A = (11B, XXX)\n",
    "\n",
    "11B = (XXX, 11Z)\n",
    "\n",
    "11Z = (11B, XXX)\n",
    "\n",
    "22A = (22B, XXX)\n",
    "\n",
    "22B = (22C, 22C)\n",
    "\n",
    "22C = (22Z, 22Z)\n",
    "\n",
    "22Z = (22B, 22B)\n",
    "\n",
    "XXX = (XXX, XXX)\n",
    "\n",
    "Here, there are two starting nodes, 11A and 22A (because they both end with A). As you follow each left/right instruction, use that instruction to simultaneously navigate away from both nodes you're currently on. Repeat this process until all of the nodes you're currently on end with Z. (If only some of the nodes you're on end with Z, they act like any other node and you continue as normal.) In this example, you would proceed as follows:\n",
    "\n",
    "Step 0: You are at 11A and 22A.\n",
    "\n",
    "Step 1: You choose all of the left paths, leading you to 11B and 22B.\n",
    "\n",
    "Step 2: You choose all of the right paths, leading you to 11Z and 22C.\n",
    "\n",
    "Step 3: You choose all of the left paths, leading you to 11B and 22Z.\n",
    "\n",
    "Step 4: You choose all of the right paths, leading you to 11Z and 22B.\n",
    "\n",
    "Step 5: You choose all of the left paths, leading you to 11B and 22C.\n",
    "\n",
    "Step 6: You choose all of the right paths, leading you to 11Z and 22Z.\n",
    "\n",
    "So, in this example, you end up entirely on nodes that end in Z after 6 steps.\n",
    "\n",
    "Simultaneously start on every node that ends with A. How many steps does it take before you're only on nodes that end with Z?"
   ]
  },
  {
   "cell_type": "code",
   "execution_count": 8,
   "metadata": {},
   "outputs": [],
   "source": [
    "def end_z(l):\n",
    "    for el in l:\n",
    "        if el[-1:] != 'Z':\n",
    "            return False\n",
    "    return True"
   ]
  },
  {
   "cell_type": "code",
   "execution_count": 9,
   "metadata": {},
   "outputs": [
    {
     "data": {
      "text/plain": [
       "['VNA', 'AAA', 'DPA', 'JPA', 'DBA', 'QJA']"
      ]
     },
     "execution_count": 9,
     "metadata": {},
     "output_type": "execute_result"
    }
   ],
   "source": [
    "node_list_init = []\n",
    "for n in nodes.keys():\n",
    "    if n[-1] == 'A':\n",
    "        node_list_init.append(n)\n",
    "node_list_init"
   ]
  },
  {
   "cell_type": "code",
   "execution_count": 10,
   "metadata": {},
   "outputs": [
    {
     "data": {
      "text/plain": [
       "['VNA', 'AAA', 'DPA']"
      ]
     },
     "execution_count": 10,
     "metadata": {},
     "output_type": "execute_result"
    }
   ],
   "source": [
    "node_list = node_list_init[:3]\n",
    "node_list"
   ]
  },
  {
   "cell_type": "code",
   "execution_count": 11,
   "metadata": {},
   "outputs": [
    {
     "data": {
      "text/plain": [
       "76482349"
      ]
     },
     "execution_count": 11,
     "metadata": {},
     "output_type": "execute_result"
    }
   ],
   "source": [
    "steps = 0\n",
    "\n",
    "while end_z(node_list) == False:\n",
    "    s = pattern[steps%len(pattern)]\n",
    "    node_list_new = []\n",
    "    for n in node_list:\n",
    "        node_list_new.append(nodes[n][dir(s)])\n",
    "    node_list = node_list_new\n",
    "    steps += 1\n",
    "\n",
    "steps"
   ]
  },
  {
   "cell_type": "code",
   "execution_count": 12,
   "metadata": {},
   "outputs": [],
   "source": [
    "ultimi3 = 41074417\n",
    "primi3 = 76482349"
   ]
  },
  {
   "cell_type": "code",
   "execution_count": 13,
   "metadata": {},
   "outputs": [],
   "source": [
    "from numpy import lcm"
   ]
  },
  {
   "cell_type": "code",
   "execution_count": 14,
   "metadata": {},
   "outputs": [
    {
     "data": {
      "text/plain": [
       "11678319315857"
      ]
     },
     "execution_count": 14,
     "metadata": {},
     "output_type": "execute_result"
    }
   ],
   "source": [
    "lcm(primi3, ultimi3)"
   ]
  }
 ],
 "metadata": {
  "language_info": {
   "name": "python"
  }
 },
 "nbformat": 4,
 "nbformat_minor": 2
}
