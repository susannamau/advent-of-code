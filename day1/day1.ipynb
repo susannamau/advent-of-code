{
 "cells": [
  {
   "cell_type": "markdown",
   "metadata": {},
   "source": [
    "## Part 1"
   ]
  },
  {
   "cell_type": "markdown",
   "metadata": {},
   "source": [
    "--- Day 1: Trebuchet?! ---\n",
    "Something is wrong with global snow production, and you've been selected to take a look. The Elves have even given you a map; on it, they've used stars to mark the top fifty locations that are likely to be having problems.\n",
    "\n",
    "You've been doing this long enough to know that to restore snow operations, you need to check all fifty stars by December 25th.\n",
    "\n",
    "Collect stars by solving puzzles. Two puzzles will be made available on each day in the Advent calendar; the second puzzle is unlocked when you complete the first. Each puzzle grants one star. Good luck!\n",
    "\n",
    "You try to ask why they can't just use a weather machine (\"not powerful enough\") and where they're even sending you (\"the sky\") and why your map looks mostly blank (\"you sure ask a lot of questions\") and hang on did you just say the sky (\"of course, where do you think snow comes from\") when you realize that the Elves are already loading you into a trebuchet (\"please hold still, we need to strap you in\").\n",
    "\n",
    "As they're making the final adjustments, they discover that their calibration document (your puzzle input) has been amended by a very young Elf who was apparently just excited to show off her art skills. Consequently, the Elves are having trouble reading the values on the document.\n",
    "\n",
    "The newly-improved calibration document consists of lines of text; each line originally contained a specific calibration value that the Elves now need to recover. On each line, the calibration value can be found by combining the first digit and the last digit (in that order) to form a single two-digit number.\n",
    "\n",
    "For example:\n",
    "\n",
    "1abc2\n",
    "pqr3stu8vwx\n",
    "a1b2c3d4e5f\n",
    "treb7uchet\n",
    "In this example, the calibration values of these four lines are 12, 38, 15, and 77. Adding these together produces 142.\n",
    "\n",
    "Consider your entire calibration document. What is the sum of all of the calibration values?\n",
    "\n"
   ]
  },
  {
   "cell_type": "code",
   "execution_count": 47,
   "metadata": {},
   "outputs": [],
   "source": [
    "f = open(\"input_day1.txt\", 'r')\n",
    "data = f.readlines()\n",
    "#data"
   ]
  },
  {
   "cell_type": "code",
   "execution_count": 48,
   "metadata": {},
   "outputs": [
    {
     "data": {
      "text/plain": [
       "1000"
      ]
     },
     "execution_count": 48,
     "metadata": {},
     "output_type": "execute_result"
    }
   ],
   "source": [
    "len(data) #list of 1000 strings"
   ]
  },
  {
   "cell_type": "code",
   "execution_count": 49,
   "metadata": {},
   "outputs": [],
   "source": [
    "data2=[]\n",
    "for s in data:\n",
    "    data2.append(s.strip('\\n'))\n",
    "#data2"
   ]
  },
  {
   "cell_type": "code",
   "execution_count": 50,
   "metadata": {},
   "outputs": [
    {
     "name": "stdout",
     "output_type": "stream",
     "text": [
      "56108\n"
     ]
    }
   ],
   "source": [
    "raccolta = []\n",
    "for s in data2:\n",
    "    i_inizio = 0\n",
    "    i_fine = len(s)\n",
    "    cifra1 = None\n",
    "    cifra2 = None\n",
    "\n",
    "    while cifra1 == None:\n",
    "        try:\n",
    "            cifra1 = int(s[i_inizio])\n",
    "        except ValueError:\n",
    "            i_inizio += 1\n",
    "    while cifra2 == None:\n",
    "        try:\n",
    "            cifra2 = int(s[i_fine-1])\n",
    "        except ValueError:\n",
    "            i_fine -= 1\n",
    "\n",
    "    num = cifra1*10+cifra2\n",
    "    raccolta.append(num)\n",
    "print(sum(raccolta))"
   ]
  },
  {
   "cell_type": "markdown",
   "metadata": {},
   "source": [
    "## Part 2"
   ]
  },
  {
   "cell_type": "markdown",
   "metadata": {},
   "source": [
    "--- Part Two ---\n",
    "Your calculation isn't quite right. It looks like some of the digits are actually spelled out with letters: one, two, three, four, five, six, seven, eight, and nine also count as valid \"digits\".\n",
    "\n",
    "Equipped with this new information, you now need to find the real first and last digit on each line. For example:\n",
    "\n",
    "two1nine\n",
    "eightwothree\n",
    "abcone2threexyz\n",
    "xtwone3four\n",
    "4nineeightseven2\n",
    "zoneight234\n",
    "7pqrstsixteen\n",
    "In this example, the calibration values are 29, 83, 13, 24, 42, 14, and 76. Adding these together produces 281.\n",
    "\n",
    "What is the sum of all of the calibration values?"
   ]
  },
  {
   "cell_type": "code",
   "execution_count": 51,
   "metadata": {},
   "outputs": [],
   "source": [
    "conv = {'one': 1,\n",
    "        'two': 2,\n",
    "        'three':3,\n",
    "        'four':4,\n",
    "        'five':5,\n",
    "        'six':6,\n",
    "        'seven':7,\n",
    "        'eight':8,\n",
    "        'nine':9,\n",
    "        '1':1,\n",
    "        '2':2,\n",
    "        '3':3,\n",
    "        '4':4,\n",
    "        '5':5,\n",
    "        '6':6,\n",
    "        '7':7,\n",
    "        '8':8,\n",
    "        '9':9,\n",
    "        '0':0}"
   ]
  },
  {
   "cell_type": "code",
   "execution_count": 52,
   "metadata": {},
   "outputs": [
    {
     "data": {
      "text/plain": [
       "55652"
      ]
     },
     "execution_count": 52,
     "metadata": {},
     "output_type": "execute_result"
    }
   ],
   "source": [
    "raccolta = []\n",
    "for s in data2:\n",
    "    indici = {}\n",
    "    for num in ['one', 'two', 'three', 'four', 'five', 'six', 'seven', 'eight', 'nine', '1', '2', '3', '4', '5', '6', '7', '8', '9', '0']:\n",
    "        indici[s.find(num)] = num\n",
    "        indici[s.rfind(num)] = num\n",
    "    lista_indici = list(indici.keys())\n",
    "    lista_indici.remove(-1)\n",
    "    ind_min = min(lista_indici)\n",
    "    ind_max = max(lista_indici)\n",
    "    numero = conv[indici[ind_min]]*10+conv[indici[ind_max]]\n",
    "    raccolta.append(numero)\n",
    "sum(raccolta)"
   ]
  }
 ],
 "metadata": {
  "kernelspec": {
   "display_name": "base",
   "language": "python",
   "name": "python3"
  },
  "language_info": {
   "codemirror_mode": {
    "name": "ipython",
    "version": 3
   },
   "file_extension": ".py",
   "mimetype": "text/x-python",
   "name": "python",
   "nbconvert_exporter": "python",
   "pygments_lexer": "ipython3",
   "version": "3.11.4"
  }
 },
 "nbformat": 4,
 "nbformat_minor": 2
}
